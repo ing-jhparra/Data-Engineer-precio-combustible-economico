{
 "cells": [
  {
   "cell_type": "code",
   "execution_count": 2,
   "id": "126b9846",
   "metadata": {},
   "outputs": [],
   "source": [
    "import requests\n",
    "import random\n",
    "import pandas as pd \n",
    "pd.options.mode.chained_assignment = None # default='warn'\n",
    "from tqdm import tqdm\n",
    "from bs4 import BeautifulSoup\n",
    "#from cred_here import YOUR_API_KEY\n",
    "import json \n",
    "from tqdm import tqdm\n",
    "import time\n",
    "from datetime import datetime\n",
    "\n",
    "import ast"
   ]
  },
  {
   "cell_type": "code",
   "execution_count": 3,
   "id": "87d0aac7",
   "metadata": {},
   "outputs": [],
   "source": [
    "YOUR_API_KEY = '4901aad006d0464594531f2f481f52f6'"
   ]
  },
  {
   "cell_type": "code",
   "execution_count": 4,
   "id": "c6f789f2-2d68-4bf3-8897-58e995723bc9",
   "metadata": {},
   "outputs": [],
   "source": [
    "#url = "
   ]
  },
  {
   "cell_type": "code",
   "execution_count": 5,
   "id": "81d9cec3",
   "metadata": {},
   "outputs": [],
   "source": [
    "df = pd.read_csv('Precios_Combustibles.csv')"
   ]
  },
  {
   "cell_type": "code",
   "execution_count": 6,
   "id": "24b78104-cf96-4202-a9a9-5a8083bd397d",
   "metadata": {},
   "outputs": [],
   "source": [
    "df=df.rename(columns={'departamentocodigo':'Cod.Departamento','departamentonombre':'Departamento', 'municipiocodigo':'Cod.Municipio', 'municipionombre':'Municipio', 'agente':'Agente', 'bandera':'Bandera', 'direccion':'Direccion', 'producto':'Producto', 'precio':'Precio', 'estado':'Estado', 'fecharegistro':'Registro'})\n"
   ]
  },
  {
   "cell_type": "code",
   "execution_count": 7,
   "id": "c5d17e44-b845-47c4-9f10-0a7c20f1eac3",
   "metadata": {},
   "outputs": [
    {
     "data": {
      "text/plain": [
       "str"
      ]
     },
     "execution_count": 7,
     "metadata": {},
     "output_type": "execute_result"
    }
   ],
   "source": [
    "type(df['Registro'][0])"
   ]
  },
  {
   "cell_type": "code",
   "execution_count": 8,
   "id": "643e6ede-80ab-467e-8529-d0c25606c53a",
   "metadata": {},
   "outputs": [
    {
     "data": {
      "text/plain": [
       "13574"
      ]
     },
     "execution_count": 8,
     "metadata": {},
     "output_type": "execute_result"
    }
   ],
   "source": [
    "df['Registro'].count()"
   ]
  },
  {
   "cell_type": "code",
   "execution_count": 9,
   "id": "e18fa037-1879-4f79-99f7-6300e792740b",
   "metadata": {},
   "outputs": [
    {
     "data": {
      "text/plain": [
       "'01/08/2015 12:00:00 AM'"
      ]
     },
     "execution_count": 9,
     "metadata": {},
     "output_type": "execute_result"
    }
   ],
   "source": [
    "df['Registro'][0]"
   ]
  },
  {
   "cell_type": "code",
   "execution_count": 10,
   "id": "25f2143a-72a8-43b9-9a15-1b83fc02a0f0",
   "metadata": {},
   "outputs": [],
   "source": [
    "Periodo = []\n",
    "Mes = []\n",
    "for i in range(df['Registro'].count()):\n",
    "   Periodo.append(datetime.strptime(df['Registro'][i], '%m/%d/%Y %H:%M:%S %p').year)\n",
    "   Mes.append(datetime.strptime(df['Registro'][i], '%m/%d/%Y %H:%M:%S %p').month)\n",
    "df['Periodo']=Periodo\n",
    "df['Mes']=Mes"
   ]
  },
  {
   "cell_type": "code",
   "execution_count": 11,
   "id": "0e4e66d9-8155-4947-a4a5-b6e465d23e12",
   "metadata": {},
   "outputs": [
    {
     "data": {
      "text/html": [
       "<div>\n",
       "<style scoped>\n",
       "    .dataframe tbody tr th:only-of-type {\n",
       "        vertical-align: middle;\n",
       "    }\n",
       "\n",
       "    .dataframe tbody tr th {\n",
       "        vertical-align: top;\n",
       "    }\n",
       "\n",
       "    .dataframe thead th {\n",
       "        text-align: right;\n",
       "    }\n",
       "</style>\n",
       "<table border=\"1\" class=\"dataframe\">\n",
       "  <thead>\n",
       "    <tr style=\"text-align: right;\">\n",
       "      <th></th>\n",
       "      <th>Cod.Departamento</th>\n",
       "      <th>Departamento</th>\n",
       "      <th>Cod.Municipio</th>\n",
       "      <th>Municipio</th>\n",
       "      <th>Agente</th>\n",
       "      <th>Bandera</th>\n",
       "      <th>Direccion</th>\n",
       "      <th>Producto</th>\n",
       "      <th>Precio</th>\n",
       "      <th>Estado</th>\n",
       "      <th>Registro</th>\n",
       "      <th>Periodo</th>\n",
       "      <th>Mes</th>\n",
       "    </tr>\n",
       "  </thead>\n",
       "  <tbody>\n",
       "    <tr>\n",
       "      <th>0</th>\n",
       "      <td>18</td>\n",
       "      <td>CAQUETA</td>\n",
       "      <td>18756</td>\n",
       "      <td>SOLANO</td>\n",
       "      <td>COMERCIALIZADORA EL HUECO</td>\n",
       "      <td>TERPEL</td>\n",
       "      <td>Puerto Principal</td>\n",
       "      <td>BIODIESEL EXTRA</td>\n",
       "      <td>8500</td>\n",
       "      <td>1</td>\n",
       "      <td>01/08/2015 12:00:00 AM</td>\n",
       "      <td>2015</td>\n",
       "      <td>1</td>\n",
       "    </tr>\n",
       "    <tr>\n",
       "      <th>1</th>\n",
       "      <td>99</td>\n",
       "      <td>VICHADA</td>\n",
       "      <td>99624</td>\n",
       "      <td>SANTA ROSALIA</td>\n",
       "      <td>ESTACION DE SERVICIO LA VICTORIA</td>\n",
       "      <td>BRIO</td>\n",
       "      <td>Carrera 9 con calle 3 No. 08-92-96</td>\n",
       "      <td>BIODIESEL EXTRA</td>\n",
       "      <td>9000</td>\n",
       "      <td>1</td>\n",
       "      <td>01/08/2016 12:00:00 AM</td>\n",
       "      <td>2016</td>\n",
       "      <td>1</td>\n",
       "    </tr>\n",
       "  </tbody>\n",
       "</table>\n",
       "</div>"
      ],
      "text/plain": [
       "   Cod.Departamento Departamento  Cod.Municipio      Municipio  \\\n",
       "0                18      CAQUETA          18756         SOLANO   \n",
       "1                99      VICHADA          99624  SANTA ROSALIA   \n",
       "\n",
       "                             Agente Bandera  \\\n",
       "0         COMERCIALIZADORA EL HUECO  TERPEL   \n",
       "1  ESTACION DE SERVICIO LA VICTORIA    BRIO   \n",
       "\n",
       "                            Direccion         Producto  Precio  Estado  \\\n",
       "0                    Puerto Principal  BIODIESEL EXTRA    8500       1   \n",
       "1  Carrera 9 con calle 3 No. 08-92-96  BIODIESEL EXTRA    9000       1   \n",
       "\n",
       "                 Registro  Periodo  Mes  \n",
       "0  01/08/2015 12:00:00 AM     2015    1  \n",
       "1  01/08/2016 12:00:00 AM     2016    1  "
      ]
     },
     "execution_count": 11,
     "metadata": {},
     "output_type": "execute_result"
    }
   ],
   "source": [
    "df.head(2)"
   ]
  },
  {
   "cell_type": "markdown",
   "id": "ddad1d17",
   "metadata": {},
   "source": [
    "<h1><center>Geocoding Api's</center></h1>\n",
    "\n",
    "## Google API\n",
    "\n",
    "* [**Google_Free_Tier**](https://cloud.google.com/free/?utm_source=google&utm_medium=cpc&utm_campaign=latam-LATAM-all-es-dr-AKWS-all-all-trial-p-dr-1011454-LUAC0013610&utm_content=text-ad-none-any-DEV_c-CRE_540885993580-ADGP_Hybrid%20%7C%20BKWS%20-%20PHR%20%7C%20Txt%20~%20Management-Tools_Console-KWID_43700065922071537-kwd-651816590614&utm_term=KW_google%20console-ST_Google%20Console&gclid=Cj0KCQjwnbmaBhD-ARIsAGTPcfWVMlJlTFywFNaAo8P-MNL4_gM6L7yucqAQ37xg1AIEHzpAzF_kkAoaAsszEALw_wcB&gclsrc=aw.ds)\n",
    "* [**Google_Api_Pricing**](https://mapsplatform.google.com/pricing/)\n",
    "\n",
    "## HERE Platform\n",
    "\n",
    "* [**Here_Register**](https://platform.here.com/sign-up?step=verify-identity&aid=www.here.com-start-building)\n",
    "* [**Here_Princing**](https://www.here.com/pricing)\n",
    "* [**Geocoding_Documentation**](https://developer.here.com/documentation/geocoding-search-api/dev_guide/topics/endpoint-geocode-brief.html)"
   ]
  },
  {
   "cell_type": "code",
   "execution_count": 12,
   "id": "ccf8f96f-b501-4873-aff8-cddafb71f687",
   "metadata": {},
   "outputs": [
    {
     "data": {
      "text/plain": [
       "[2015, 2016, 2017, 2018]"
      ]
     },
     "execution_count": 12,
     "metadata": {},
     "output_type": "execute_result"
    }
   ],
   "source": [
    "\n",
    "periodo = list(df.Periodo.unique())\n",
    "periodo"
   ]
  },
  {
   "cell_type": "markdown",
   "id": "2869c9b2",
   "metadata": {},
   "source": [
    "# Clean Data "
   ]
  },
  {
   "cell_type": "code",
   "execution_count": 13,
   "id": "1c2e4461",
   "metadata": {},
   "outputs": [
    {
     "data": {
      "text/html": [
       "<div>\n",
       "<style scoped>\n",
       "    .dataframe tbody tr th:only-of-type {\n",
       "        vertical-align: middle;\n",
       "    }\n",
       "\n",
       "    .dataframe tbody tr th {\n",
       "        vertical-align: top;\n",
       "    }\n",
       "\n",
       "    .dataframe thead th {\n",
       "        text-align: right;\n",
       "    }\n",
       "</style>\n",
       "<table border=\"1\" class=\"dataframe\">\n",
       "  <thead>\n",
       "    <tr style=\"text-align: right;\">\n",
       "      <th></th>\n",
       "      <th>Cod.Departamento</th>\n",
       "      <th>Departamento</th>\n",
       "      <th>Cod.Municipio</th>\n",
       "      <th>Municipio</th>\n",
       "      <th>Agente</th>\n",
       "      <th>Bandera</th>\n",
       "      <th>Direccion</th>\n",
       "      <th>Producto</th>\n",
       "      <th>Precio</th>\n",
       "      <th>Estado</th>\n",
       "      <th>Registro</th>\n",
       "      <th>Periodo</th>\n",
       "      <th>Mes</th>\n",
       "    </tr>\n",
       "  </thead>\n",
       "  <tbody>\n",
       "    <tr>\n",
       "      <th>3</th>\n",
       "      <td>5</td>\n",
       "      <td>ANTIOQUIA</td>\n",
       "      <td>5837</td>\n",
       "      <td>TURBO</td>\n",
       "      <td>BOMBA CODI EL PUEBLO</td>\n",
       "      <td>PROXXON</td>\n",
       "      <td>CRA 13 99 A 41</td>\n",
       "      <td>BIODIESEL EXTRA</td>\n",
       "      <td>8893</td>\n",
       "      <td>1</td>\n",
       "      <td>05/07/2018 12:00:00 AM</td>\n",
       "      <td>2018</td>\n",
       "      <td>5</td>\n",
       "    </tr>\n",
       "    <tr>\n",
       "      <th>8</th>\n",
       "      <td>95</td>\n",
       "      <td>GUAVIARE</td>\n",
       "      <td>95200</td>\n",
       "      <td>MIRAFLORES</td>\n",
       "      <td>ESTACION DE SERVICIO LA ESMERALDA 1</td>\n",
       "      <td>TERPEL</td>\n",
       "      <td>VIA AEROPUERTO PRINCIPAL BARRIO CHINO</td>\n",
       "      <td>GASOLINA CORRIENTE OXIGENADA</td>\n",
       "      <td>10900</td>\n",
       "      <td>1</td>\n",
       "      <td>01/29/2018 12:00:00 AM</td>\n",
       "      <td>2018</td>\n",
       "      <td>1</td>\n",
       "    </tr>\n",
       "  </tbody>\n",
       "</table>\n",
       "</div>"
      ],
      "text/plain": [
       "   Cod.Departamento Departamento  Cod.Municipio   Municipio  \\\n",
       "3                 5    ANTIOQUIA           5837       TURBO   \n",
       "8                95     GUAVIARE          95200  MIRAFLORES   \n",
       "\n",
       "                                Agente  Bandera  \\\n",
       "3                 BOMBA CODI EL PUEBLO  PROXXON   \n",
       "8  ESTACION DE SERVICIO LA ESMERALDA 1   TERPEL   \n",
       "\n",
       "                               Direccion                      Producto  \\\n",
       "3                         CRA 13 99 A 41               BIODIESEL EXTRA   \n",
       "8  VIA AEROPUERTO PRINCIPAL BARRIO CHINO  GASOLINA CORRIENTE OXIGENADA   \n",
       "\n",
       "   Precio  Estado                Registro  Periodo  Mes  \n",
       "3    8893       1  05/07/2018 12:00:00 AM     2018    5  \n",
       "8   10900       1  01/29/2018 12:00:00 AM     2018    1  "
      ]
     },
     "execution_count": 13,
     "metadata": {},
     "output_type": "execute_result"
    }
   ],
   "source": [
    "df[df['Periodo']==2018].head(2)"
   ]
  },
  {
   "cell_type": "code",
   "execution_count": 14,
   "id": "faca0bf0",
   "metadata": {},
   "outputs": [],
   "source": [
    "df2 =  df[(df['Periodo']==2018) & (df['Mes']==5)]\n",
    "df2 =  df2[(df2['Departamento']=='BOGOTA D.C.') | (df2['Departamento']=='ANTIOQUIA')]"
   ]
  },
  {
   "cell_type": "code",
   "execution_count": 15,
   "id": "99378d8f",
   "metadata": {},
   "outputs": [
    {
     "data": {
      "text/plain": [
       "BOGOTA D.C.           1278\n",
       "MEDELLIN               305\n",
       "BELLO                   59\n",
       "ITAGUI                  53\n",
       "CANON DE RIO CLARO      48\n",
       "Name: Municipio, dtype: int64"
      ]
     },
     "execution_count": 15,
     "metadata": {},
     "output_type": "execute_result"
    }
   ],
   "source": [
    "df2['Municipio'].value_counts().head(5)"
   ]
  },
  {
   "cell_type": "code",
   "execution_count": 24,
   "id": "2c8f9233",
   "metadata": {},
   "outputs": [],
   "source": [
    "df3 = df2[(df2['Departamento']=='BOGOTA D.C.') | ((df2['Departamento']=='ANTIOQUIA') & ((df2['Municipio']=='BOGOTA D.C.') | (df2['Municipio']=='MEDELLIN') | (df2['Municipio']=='BELLO')))]\n",
    "df3.reset_index(drop = True, inplace = True)"
   ]
  },
  {
   "cell_type": "code",
   "execution_count": 25,
   "id": "a5e4b369",
   "metadata": {},
   "outputs": [
    {
     "data": {
      "text/plain": [
       "BOGOTA D.C.    1278\n",
       "MEDELLIN        305\n",
       "BELLO            59\n",
       "Name: Municipio, dtype: int64"
      ]
     },
     "execution_count": 25,
     "metadata": {},
     "output_type": "execute_result"
    }
   ],
   "source": [
    "df3['Municipio'].value_counts()"
   ]
  },
  {
   "cell_type": "code",
   "execution_count": 26,
   "id": "c0017402-1c90-4f02-818a-d98c068f70f7",
   "metadata": {},
   "outputs": [
    {
     "data": {
      "text/html": [
       "<div>\n",
       "<style scoped>\n",
       "    .dataframe tbody tr th:only-of-type {\n",
       "        vertical-align: middle;\n",
       "    }\n",
       "\n",
       "    .dataframe tbody tr th {\n",
       "        vertical-align: top;\n",
       "    }\n",
       "\n",
       "    .dataframe thead th {\n",
       "        text-align: right;\n",
       "    }\n",
       "</style>\n",
       "<table border=\"1\" class=\"dataframe\">\n",
       "  <thead>\n",
       "    <tr style=\"text-align: right;\">\n",
       "      <th></th>\n",
       "      <th>Cod.Departamento</th>\n",
       "      <th>Departamento</th>\n",
       "      <th>Cod.Municipio</th>\n",
       "      <th>Municipio</th>\n",
       "      <th>Agente</th>\n",
       "      <th>Bandera</th>\n",
       "      <th>Direccion</th>\n",
       "      <th>Producto</th>\n",
       "      <th>Precio</th>\n",
       "      <th>Estado</th>\n",
       "      <th>Registro</th>\n",
       "      <th>Periodo</th>\n",
       "      <th>Mes</th>\n",
       "    </tr>\n",
       "  </thead>\n",
       "  <tbody>\n",
       "    <tr>\n",
       "      <th>0</th>\n",
       "      <td>11</td>\n",
       "      <td>BOGOTA D.C.</td>\n",
       "      <td>11001</td>\n",
       "      <td>BOGOTA D.C.</td>\n",
       "      <td>ESTACION DE SERVICIO METROPOLITANA</td>\n",
       "      <td>MOBIL</td>\n",
       "      <td>CARRERA 120 No. 17-37</td>\n",
       "      <td>BIODIESEL EXTRA</td>\n",
       "      <td>8400</td>\n",
       "      <td>1</td>\n",
       "      <td>05/02/2018 12:00:00 AM</td>\n",
       "      <td>2018</td>\n",
       "      <td>5</td>\n",
       "    </tr>\n",
       "    <tr>\n",
       "      <th>1</th>\n",
       "      <td>11</td>\n",
       "      <td>BOGOTA D.C.</td>\n",
       "      <td>11001</td>\n",
       "      <td>BOGOTA D.C.</td>\n",
       "      <td>EDS ESSO INDUSTRIAL BOYACA</td>\n",
       "      <td>MOBIL</td>\n",
       "      <td>CARRERA 71 No. 19-05</td>\n",
       "      <td>GASOLINA CORRIENTE OXIGENADA</td>\n",
       "      <td>9090</td>\n",
       "      <td>1</td>\n",
       "      <td>05/02/2018 12:00:00 AM</td>\n",
       "      <td>2018</td>\n",
       "      <td>5</td>\n",
       "    </tr>\n",
       "  </tbody>\n",
       "</table>\n",
       "</div>"
      ],
      "text/plain": [
       "   Cod.Departamento Departamento  Cod.Municipio    Municipio  \\\n",
       "0                11  BOGOTA D.C.          11001  BOGOTA D.C.   \n",
       "1                11  BOGOTA D.C.          11001  BOGOTA D.C.   \n",
       "\n",
       "                               Agente Bandera              Direccion  \\\n",
       "0  ESTACION DE SERVICIO METROPOLITANA   MOBIL  CARRERA 120 No. 17-37   \n",
       "1          EDS ESSO INDUSTRIAL BOYACA   MOBIL   CARRERA 71 No. 19-05   \n",
       "\n",
       "                       Producto  Precio  Estado                Registro  \\\n",
       "0               BIODIESEL EXTRA    8400       1  05/02/2018 12:00:00 AM   \n",
       "1  GASOLINA CORRIENTE OXIGENADA    9090       1  05/02/2018 12:00:00 AM   \n",
       "\n",
       "   Periodo  Mes  \n",
       "0     2018    5  \n",
       "1     2018    5  "
      ]
     },
     "execution_count": 26,
     "metadata": {},
     "output_type": "execute_result"
    }
   ],
   "source": [
    "df3.head(2)"
   ]
  },
  {
   "cell_type": "code",
   "execution_count": 27,
   "id": "c5ad2d58",
   "metadata": {},
   "outputs": [
    {
     "data": {
      "text/plain": [
       "['BOGOTA D.C.', 'MEDELLIN', 'BELLO']"
      ]
     },
     "execution_count": 27,
     "metadata": {},
     "output_type": "execute_result"
    }
   ],
   "source": [
    "list(df3['Municipio'].unique())"
   ]
  },
  {
   "cell_type": "code",
   "execution_count": 28,
   "id": "69a4db59",
   "metadata": {},
   "outputs": [
    {
     "data": {
      "text/html": [
       "<div>\n",
       "<style scoped>\n",
       "    .dataframe tbody tr th:only-of-type {\n",
       "        vertical-align: middle;\n",
       "    }\n",
       "\n",
       "    .dataframe tbody tr th {\n",
       "        vertical-align: top;\n",
       "    }\n",
       "\n",
       "    .dataframe thead th {\n",
       "        text-align: right;\n",
       "    }\n",
       "</style>\n",
       "<table border=\"1\" class=\"dataframe\">\n",
       "  <thead>\n",
       "    <tr style=\"text-align: right;\">\n",
       "      <th></th>\n",
       "      <th>Cod.Departamento</th>\n",
       "      <th>Departamento</th>\n",
       "      <th>Cod.Municipio</th>\n",
       "      <th>Municipio</th>\n",
       "      <th>Agente</th>\n",
       "      <th>Bandera</th>\n",
       "      <th>Direccion</th>\n",
       "      <th>Producto</th>\n",
       "      <th>Precio</th>\n",
       "      <th>Estado</th>\n",
       "      <th>Registro</th>\n",
       "      <th>Periodo</th>\n",
       "      <th>Mes</th>\n",
       "      <th>Direccion_2</th>\n",
       "      <th>Full_Address</th>\n",
       "    </tr>\n",
       "  </thead>\n",
       "  <tbody>\n",
       "    <tr>\n",
       "      <th>0</th>\n",
       "      <td>11</td>\n",
       "      <td>BOGOTA D.C.</td>\n",
       "      <td>11001</td>\n",
       "      <td>BOGOTA D.C.</td>\n",
       "      <td>ESTACION DE SERVICIO METROPOLITANA</td>\n",
       "      <td>MOBIL</td>\n",
       "      <td>CARRERA 120 No. 17-37</td>\n",
       "      <td>BIODIESEL EXTRA</td>\n",
       "      <td>8400</td>\n",
       "      <td>1</td>\n",
       "      <td>05/02/2018 12:00:00 AM</td>\n",
       "      <td>2018</td>\n",
       "      <td>5</td>\n",
       "      <td>CARRERA 120 No. 17-37</td>\n",
       "      <td>CARRERA 120 No. 17-37, Bogota d.c., Colombia</td>\n",
       "    </tr>\n",
       "    <tr>\n",
       "      <th>1</th>\n",
       "      <td>11</td>\n",
       "      <td>BOGOTA D.C.</td>\n",
       "      <td>11001</td>\n",
       "      <td>BOGOTA D.C.</td>\n",
       "      <td>EDS ESSO INDUSTRIAL BOYACA</td>\n",
       "      <td>MOBIL</td>\n",
       "      <td>CARRERA 71 No. 19-05</td>\n",
       "      <td>GASOLINA CORRIENTE OXIGENADA</td>\n",
       "      <td>9090</td>\n",
       "      <td>1</td>\n",
       "      <td>05/02/2018 12:00:00 AM</td>\n",
       "      <td>2018</td>\n",
       "      <td>5</td>\n",
       "      <td>CARRERA 71 No. 19-05</td>\n",
       "      <td>CARRERA 71 No. 19-05, Bogota d.c., Colombia</td>\n",
       "    </tr>\n",
       "  </tbody>\n",
       "</table>\n",
       "</div>"
      ],
      "text/plain": [
       "   Cod.Departamento Departamento  Cod.Municipio    Municipio  \\\n",
       "0                11  BOGOTA D.C.          11001  BOGOTA D.C.   \n",
       "1                11  BOGOTA D.C.          11001  BOGOTA D.C.   \n",
       "\n",
       "                               Agente Bandera              Direccion  \\\n",
       "0  ESTACION DE SERVICIO METROPOLITANA   MOBIL  CARRERA 120 No. 17-37   \n",
       "1          EDS ESSO INDUSTRIAL BOYACA   MOBIL   CARRERA 71 No. 19-05   \n",
       "\n",
       "                       Producto  Precio  Estado                Registro  \\\n",
       "0               BIODIESEL EXTRA    8400       1  05/02/2018 12:00:00 AM   \n",
       "1  GASOLINA CORRIENTE OXIGENADA    9090       1  05/02/2018 12:00:00 AM   \n",
       "\n",
       "   Periodo  Mes            Direccion_2  \\\n",
       "0     2018    5  CARRERA 120 No. 17-37   \n",
       "1     2018    5   CARRERA 71 No. 19-05   \n",
       "\n",
       "                                   Full_Address  \n",
       "0  CARRERA 120 No. 17-37, Bogota d.c., Colombia  \n",
       "1   CARRERA 71 No. 19-05, Bogota d.c., Colombia  "
      ]
     },
     "execution_count": 28,
     "metadata": {},
     "output_type": "execute_result"
    }
   ],
   "source": [
    "#df3['Dir2'] = df3['Direccion'].apply(lambda x : x.replace('#','No'))\n",
    "df3['Direccion_2'] = df3['Direccion'].apply(lambda x: x.replace('#', 'No'))\n",
    "df3['Full_Address'] = df3.apply(lambda x : x['Direccion_2'] + ', ' + x['Municipio'].capitalize() + ', Colombia' , axis = 1)\n",
    "df3.head(2)"
   ]
  },
  {
   "cell_type": "code",
   "execution_count": 29,
   "id": "7cf00a9c",
   "metadata": {},
   "outputs": [
    {
     "data": {
      "text/plain": [
       "514"
      ]
     },
     "execution_count": 29,
     "metadata": {},
     "output_type": "execute_result"
    }
   ],
   "source": [
    "df3['Full_Address'].nunique()"
   ]
  },
  {
   "cell_type": "code",
   "execution_count": 30,
   "id": "b7b7a6a2-2499-4e13-8825-dafd5831803b",
   "metadata": {},
   "outputs": [
    {
     "data": {
      "text/plain": [
       "1642"
      ]
     },
     "execution_count": 30,
     "metadata": {},
     "output_type": "execute_result"
    }
   ],
   "source": [
    "len(df3)"
   ]
  },
  {
   "cell_type": "code",
   "execution_count": 31,
   "id": "cb0b3cf9",
   "metadata": {},
   "outputs": [
    {
     "data": {
      "text/plain": [
       "'CARRERA 120 No. 17-37, Bogota d.c., Colombia'"
      ]
     },
     "execution_count": 31,
     "metadata": {},
     "output_type": "execute_result"
    }
   ],
   "source": [
    "df3['Full_Address'][0]"
   ]
  },
  {
   "cell_type": "code",
   "execution_count": 32,
   "id": "1e0e14cb",
   "metadata": {},
   "outputs": [],
   "source": [
    "estaciones =  df3[['Agente','Direccion_2','Full_Address']].drop_duplicates(subset = 'Agente')\n",
    "estaciones.reset_index(drop = True, inplace = True)\n",
    "#estaciones.drop(columns = 'index',inplace = True)"
   ]
  },
  {
   "cell_type": "code",
   "execution_count": 33,
   "id": "8e475671",
   "metadata": {},
   "outputs": [
    {
     "data": {
      "text/plain": [
       "'CARRERA 120 No. 17-37, Bogota d.c., Colombia'"
      ]
     },
     "execution_count": 33,
     "metadata": {},
     "output_type": "execute_result"
    }
   ],
   "source": [
    "estaciones['Full_Address'][0]"
   ]
  },
  {
   "cell_type": "code",
   "execution_count": 34,
   "id": "a02b33c7",
   "metadata": {},
   "outputs": [],
   "source": [
    "address = estaciones['Full_Address'][0]\n",
    "url=f'https://api.opencagedata.com/geocode/v1/geojson?q={address}&key={YOUR_API_KEY}&pretty=1'\n",
    "#url = f'https://geocode.search.hereapi.com/v1/geocode?q={address}&apiKey={YOUR_API_KEY}'\n",
    "response = requests.get(url).json()"
   ]
  },
  {
   "cell_type": "code",
   "execution_count": 35,
   "id": "6ae8df96-11c0-4fd4-9bf5-620064a248c5",
   "metadata": {},
   "outputs": [
    {
     "data": {
      "text/plain": [
       "{'documentation': 'https://opencagedata.com/api',\n",
       " 'features': [{'geometry': {'coordinates': [-74.18333, 4.25], 'type': 'Point'},\n",
       "   'properties': {'annotations': {'DMS': {'lat': \"4° 15' 0.00000'' N\",\n",
       "      'lng': \"74° 10' 59.98800'' W\"},\n",
       "     'MGRS': '18NWK9062969809',\n",
       "     'Maidenhead': 'FJ24vg80aa',\n",
       "     'Mercator': {'x': -8258050.521, 'y': 470377.987},\n",
       "     'OSM': {'note_url': 'https://www.openstreetmap.org/note/new#map=17/4.25000/-74.18333&layers=N',\n",
       "      'url': 'https://www.openstreetmap.org/?mlat=4.25000&mlon=-74.18333#map=17/4.25000/-74.18333'},\n",
       "     'UN_M49': {'regions': {'AMERICAS': '019',\n",
       "       'CO': '170',\n",
       "       'LATIN_AMERICA': '419',\n",
       "       'SOUTH_AMERICA': '005',\n",
       "       'WORLD': '001'},\n",
       "      'statistical_groupings': ['LEDC']},\n",
       "     'callingcode': 57,\n",
       "     'currency': {'alternate_symbols': ['COL$'],\n",
       "      'decimal_mark': ',',\n",
       "      'disambiguate_symbol': 'COL$',\n",
       "      'html_entity': '&#36;',\n",
       "      'iso_code': 'COP',\n",
       "      'iso_numeric': '170',\n",
       "      'name': 'Colombian Peso',\n",
       "      'smallest_denomination': 20,\n",
       "      'subunit': 'Centavo',\n",
       "      'subunit_to_unit': 100,\n",
       "      'symbol': '$',\n",
       "      'symbol_first': 1,\n",
       "      'thousands_separator': '.'},\n",
       "     'flag': '🇨🇴',\n",
       "     'geohash': 'd2g0pvtq517vw8656hh4',\n",
       "     'qibla': 65.23,\n",
       "     'roadinfo': {'drive_on': 'right', 'speed_in': 'km/h'},\n",
       "     'sun': {'rise': {'apparent': 1674990780,\n",
       "       'astronomical': 1674986460,\n",
       "       'civil': 1674989460,\n",
       "       'nautical': 1674987960},\n",
       "      'set': {'apparent': 1675033620,\n",
       "       'astronomical': 1674951540,\n",
       "       'civil': 1675034940,\n",
       "       'nautical': 1675036440}},\n",
       "     'timezone': {'name': 'America/Bogota',\n",
       "      'now_in_dst': 0,\n",
       "      'offset_sec': -18000,\n",
       "      'offset_string': '-0500',\n",
       "      'short_name': '-05'},\n",
       "     'what3words': {'words': 'downs.stagnate.smoking'}},\n",
       "    'bounds': {'northeast': {'lat': 4.8355191, 'lng': -73.9950386},\n",
       "     'southwest': {'lat': 3.6753832, 'lng': -74.4935612}},\n",
       "    'components': {'ISO_3166-1_alpha-2': 'CO',\n",
       "     'ISO_3166-1_alpha-3': 'COL',\n",
       "     '_category': 'place',\n",
       "     '_type': 'state',\n",
       "     'continent': 'South America',\n",
       "     'country': 'Colombia',\n",
       "     'country_code': 'co',\n",
       "     'state': 'Bogota D.C.'},\n",
       "    'confidence': 1,\n",
       "    'formatted': 'Bogota D.C., Colombia'},\n",
       "   'type': 'Feature'}],\n",
       " 'licenses': [{'name': 'see attribution guide',\n",
       "   'url': 'https://opencagedata.com/credits'}],\n",
       " 'rate': {'limit': 2500, 'remaining': 1984, 'reset': 1675036800},\n",
       " 'status': {'code': 200, 'message': 'OK'},\n",
       " 'stay_informed': {'blog': 'https://blog.opencagedata.com',\n",
       "  'mastodon': 'https://en.osm.town/@opencage',\n",
       "  'twitter': 'https://twitter.com/OpenCage'},\n",
       " 'thanks': 'For using an OpenCage API',\n",
       " 'timestamp': {'created_http': 'Sun, 29 Jan 2023 01:42:00 GMT',\n",
       "  'created_unix': 1674956520},\n",
       " 'total_results': 1,\n",
       " 'type': 'FeatureCollection'}"
      ]
     },
     "execution_count": 35,
     "metadata": {},
     "output_type": "execute_result"
    }
   ],
   "source": [
    "response"
   ]
  },
  {
   "cell_type": "code",
   "execution_count": 36,
   "id": "dc1027d4-7014-4e27-9645-bd1df26e4a36",
   "metadata": {},
   "outputs": [
    {
     "data": {
      "text/plain": [
       "\"4° 15' 0.00000'' N\""
      ]
     },
     "execution_count": 36,
     "metadata": {},
     "output_type": "execute_result"
    }
   ],
   "source": [
    "response['features'][0]['properties']['annotations']['DMS']['lat']"
   ]
  },
  {
   "cell_type": "code",
   "execution_count": 37,
   "id": "2ec7336c",
   "metadata": {},
   "outputs": [],
   "source": [
    "def Get_Coords(address,YOUR_API_KEY):\n",
    "    \n",
    "    #url = f'https://geocode.search.hereapi.com/v1/geocode?q={address}&apiKey={YOUR_API_KEY}'\n",
    "    \n",
    "    url=f'https://api.opencagedata.com/geocode/v1/geojson?q={address}&key={YOUR_API_KEY}&pretty=1'\n",
    "    \n",
    "    try : \n",
    "        \n",
    "        response = requests.get(url).json()\n",
    "        #CleanAddress = response['items'][0]['title'].upper()\n",
    "        CleanAddress = address\n",
    "        LAT = response['features'][0]['properties']['annotations']['DMS']['lat']\n",
    "        LNG = response['features'][0]['properties']['annotations']['DMS']['lng']\n",
    "        \n",
    "        results = [CleanAddress,LAT,LNG]\n",
    "        \n",
    "    except :\n",
    "        \n",
    "        results = ['Not Found','NA','NA']\n",
    "        \n",
    "    \n",
    "    return results "
   ]
  },
  {
   "cell_type": "code",
   "execution_count": 38,
   "id": "a8c7acee",
   "metadata": {},
   "outputs": [
    {
     "data": {
      "text/plain": [
       "['CARRERA 120 No. 17-37, Bogota d.c., Colombia',\n",
       " \"4° 15' 0.00000'' N\",\n",
       " \"74° 10' 59.98800'' W\"]"
      ]
     },
     "execution_count": 38,
     "metadata": {},
     "output_type": "execute_result"
    }
   ],
   "source": [
    "Get_Coords(address,YOUR_API_KEY)"
   ]
  },
  {
   "cell_type": "markdown",
   "id": "e3badb91",
   "metadata": {},
   "source": [
    "# Extracción de coordenadas "
   ]
  },
  {
   "cell_type": "code",
   "execution_count": 39,
   "id": "6421b985",
   "metadata": {},
   "outputs": [
    {
     "name": "stderr",
     "output_type": "stream",
     "text": [
      "100%|\u001b[32m█████████████████████████████████████████\u001b[0m| 513/513 [26:09<00:00,  3.06s/it]\u001b[0m\n"
     ]
    }
   ],
   "source": [
    "coordenadas = []\n",
    "tiempo = [1,2,2.5]\n",
    "\n",
    "for i in tqdm(range(len(estaciones['Full_Address'])),colour = 'green'):\n",
    "    \n",
    "    try :\n",
    "        \n",
    "        R = Get_Coords(estaciones['Full_Address'][i],YOUR_API_KEY)\n",
    "        geo_source = R[1],R[2]\n",
    "        coordenadas.append(geo_source)\n",
    "        \n",
    "    except :\n",
    "        \n",
    "        coordenadas.append('Error')\n",
    "        \n",
    "    \n",
    "    time.sleep(random.choices(tiempo)[0])        "
   ]
  },
  {
   "cell_type": "code",
   "execution_count": 121,
   "id": "8dcdd207",
   "metadata": {},
   "outputs": [
    {
     "data": {
      "text/html": [
       "<div>\n",
       "<style scoped>\n",
       "    .dataframe tbody tr th:only-of-type {\n",
       "        vertical-align: middle;\n",
       "    }\n",
       "\n",
       "    .dataframe tbody tr th {\n",
       "        vertical-align: top;\n",
       "    }\n",
       "\n",
       "    .dataframe thead th {\n",
       "        text-align: right;\n",
       "    }\n",
       "</style>\n",
       "<table border=\"1\" class=\"dataframe\">\n",
       "  <thead>\n",
       "    <tr style=\"text-align: right;\">\n",
       "      <th></th>\n",
       "      <th>Agente</th>\n",
       "      <th>Direccion_2</th>\n",
       "      <th>Full_Address</th>\n",
       "      <th>Coords</th>\n",
       "    </tr>\n",
       "  </thead>\n",
       "  <tbody>\n",
       "    <tr>\n",
       "      <th>0</th>\n",
       "      <td>ESTACION DE SERVICIO METROPOLITANA</td>\n",
       "      <td>CARRERA 120 No. 17-37</td>\n",
       "      <td>CARRERA 120 No. 17-37, Bogota d.c., Colombia</td>\n",
       "      <td>(4° 15' 0.00000'' N, 74° 10' 59.98800'' W)</td>\n",
       "    </tr>\n",
       "    <tr>\n",
       "      <th>1</th>\n",
       "      <td>EDS ESSO INDUSTRIAL BOYACA</td>\n",
       "      <td>CARRERA 71 No. 19-05</td>\n",
       "      <td>CARRERA 71 No. 19-05, Bogota d.c., Colombia</td>\n",
       "      <td>(4° 15' 0.00000'' N, 74° 10' 59.98800'' W)</td>\n",
       "    </tr>\n",
       "  </tbody>\n",
       "</table>\n",
       "</div>"
      ],
      "text/plain": [
       "                               Agente            Direccion_2  \\\n",
       "0  ESTACION DE SERVICIO METROPOLITANA  CARRERA 120 No. 17-37   \n",
       "1          EDS ESSO INDUSTRIAL BOYACA   CARRERA 71 No. 19-05   \n",
       "\n",
       "                                   Full_Address  \\\n",
       "0  CARRERA 120 No. 17-37, Bogota d.c., Colombia   \n",
       "1   CARRERA 71 No. 19-05, Bogota d.c., Colombia   \n",
       "\n",
       "                                       Coords  \n",
       "0  (4° 15' 0.00000'' N, 74° 10' 59.98800'' W)  \n",
       "1  (4° 15' 0.00000'' N, 74° 10' 59.98800'' W)  "
      ]
     },
     "execution_count": 121,
     "metadata": {},
     "output_type": "execute_result"
    }
   ],
   "source": [
    "estaciones['Coords'] = coordenadas\n",
    "estaciones.head(2)"
   ]
  },
  {
   "cell_type": "code",
   "execution_count": 122,
   "id": "e41642f7",
   "metadata": {},
   "outputs": [
    {
     "data": {
      "text/plain": [
       "1642"
      ]
     },
     "execution_count": 122,
     "metadata": {},
     "output_type": "execute_result"
    }
   ],
   "source": [
    "len(df3)"
   ]
  },
  {
   "cell_type": "code",
   "execution_count": 124,
   "id": "379c95f1",
   "metadata": {},
   "outputs": [
    {
     "data": {
      "text/plain": [
       "pandas.core.frame.DataFrame"
      ]
     },
     "execution_count": 124,
     "metadata": {},
     "output_type": "execute_result"
    }
   ],
   "source": [
    "type(estaciones)"
   ]
  },
  {
   "cell_type": "code",
   "execution_count": 125,
   "id": "7ce19248",
   "metadata": {},
   "outputs": [],
   "source": [
    "df_final = pd.merge(df3,estaciones[['Full_Address','Coords']],how = 'inner' , on = 'Full_Address')"
   ]
  },
  {
   "cell_type": "code",
   "execution_count": 127,
   "id": "23c3fe1a",
   "metadata": {},
   "outputs": [
    {
     "data": {
      "text/html": [
       "<div>\n",
       "<style scoped>\n",
       "    .dataframe tbody tr th:only-of-type {\n",
       "        vertical-align: middle;\n",
       "    }\n",
       "\n",
       "    .dataframe tbody tr th {\n",
       "        vertical-align: top;\n",
       "    }\n",
       "\n",
       "    .dataframe thead th {\n",
       "        text-align: right;\n",
       "    }\n",
       "</style>\n",
       "<table border=\"1\" class=\"dataframe\">\n",
       "  <thead>\n",
       "    <tr style=\"text-align: right;\">\n",
       "      <th></th>\n",
       "      <th>Cod.Departamento</th>\n",
       "      <th>Departamento</th>\n",
       "      <th>Cod.Municipio</th>\n",
       "      <th>Municipio</th>\n",
       "      <th>Agente</th>\n",
       "      <th>Bandera</th>\n",
       "      <th>Direccion</th>\n",
       "      <th>Producto</th>\n",
       "      <th>Precio</th>\n",
       "      <th>Estado</th>\n",
       "      <th>Registro</th>\n",
       "      <th>Periodo</th>\n",
       "      <th>Mes</th>\n",
       "      <th>Direccion_2</th>\n",
       "      <th>Full_Address</th>\n",
       "      <th>Coords</th>\n",
       "    </tr>\n",
       "  </thead>\n",
       "  <tbody>\n",
       "    <tr>\n",
       "      <th>0</th>\n",
       "      <td>11</td>\n",
       "      <td>BOGOTA D.C.</td>\n",
       "      <td>11001</td>\n",
       "      <td>BOGOTA D.C.</td>\n",
       "      <td>ESTACION DE SERVICIO METROPOLITANA</td>\n",
       "      <td>MOBIL</td>\n",
       "      <td>CARRERA 120 No. 17-37</td>\n",
       "      <td>BIODIESEL EXTRA</td>\n",
       "      <td>8400</td>\n",
       "      <td>1</td>\n",
       "      <td>05/02/2018 12:00:00 AM</td>\n",
       "      <td>2018</td>\n",
       "      <td>5</td>\n",
       "      <td>CARRERA 120 No. 17-37</td>\n",
       "      <td>CARRERA 120 No. 17-37, Bogota d.c., Colombia</td>\n",
       "      <td>(4° 15' 0.00000'' N, 74° 10' 59.98800'' W)</td>\n",
       "    </tr>\n",
       "    <tr>\n",
       "      <th>1</th>\n",
       "      <td>11</td>\n",
       "      <td>BOGOTA D.C.</td>\n",
       "      <td>11001</td>\n",
       "      <td>BOGOTA D.C.</td>\n",
       "      <td>ESTACION DE SERVICIO METROPOLITANA</td>\n",
       "      <td>MOBIL</td>\n",
       "      <td>CARRERA 120 No. 17-37</td>\n",
       "      <td>GASOLINA CORRIENTE OXIGENADA</td>\n",
       "      <td>9095</td>\n",
       "      <td>1</td>\n",
       "      <td>05/02/2018 12:00:00 AM</td>\n",
       "      <td>2018</td>\n",
       "      <td>5</td>\n",
       "      <td>CARRERA 120 No. 17-37</td>\n",
       "      <td>CARRERA 120 No. 17-37, Bogota d.c., Colombia</td>\n",
       "      <td>(4° 15' 0.00000'' N, 74° 10' 59.98800'' W)</td>\n",
       "    </tr>\n",
       "  </tbody>\n",
       "</table>\n",
       "</div>"
      ],
      "text/plain": [
       "   Cod.Departamento Departamento  Cod.Municipio    Municipio  \\\n",
       "0                11  BOGOTA D.C.          11001  BOGOTA D.C.   \n",
       "1                11  BOGOTA D.C.          11001  BOGOTA D.C.   \n",
       "\n",
       "                               Agente Bandera              Direccion  \\\n",
       "0  ESTACION DE SERVICIO METROPOLITANA   MOBIL  CARRERA 120 No. 17-37   \n",
       "1  ESTACION DE SERVICIO METROPOLITANA   MOBIL  CARRERA 120 No. 17-37   \n",
       "\n",
       "                       Producto  Precio  Estado                Registro  \\\n",
       "0               BIODIESEL EXTRA    8400       1  05/02/2018 12:00:00 AM   \n",
       "1  GASOLINA CORRIENTE OXIGENADA    9095       1  05/02/2018 12:00:00 AM   \n",
       "\n",
       "   Periodo  Mes            Direccion_2  \\\n",
       "0     2018    5  CARRERA 120 No. 17-37   \n",
       "1     2018    5  CARRERA 120 No. 17-37   \n",
       "\n",
       "                                   Full_Address  \\\n",
       "0  CARRERA 120 No. 17-37, Bogota d.c., Colombia   \n",
       "1  CARRERA 120 No. 17-37, Bogota d.c., Colombia   \n",
       "\n",
       "                                       Coords  \n",
       "0  (4° 15' 0.00000'' N, 74° 10' 59.98800'' W)  \n",
       "1  (4° 15' 0.00000'' N, 74° 10' 59.98800'' W)  "
      ]
     },
     "execution_count": 127,
     "metadata": {},
     "output_type": "execute_result"
    }
   ],
   "source": [
    "df_final.head(2)"
   ]
  },
  {
   "cell_type": "code",
   "execution_count": 130,
   "id": "074390ab",
   "metadata": {},
   "outputs": [],
   "source": [
    "df_final = pd.merge(df3,estaciones[['Full_Address','Coords']],how = 'inner' , on = 'Full_Address')"
   ]
  },
  {
   "cell_type": "code",
   "execution_count": 131,
   "id": "7a4810c4",
   "metadata": {},
   "outputs": [],
   "source": [
    "df_final.to_csv('DATASET_FINAL.csv',index = False)"
   ]
  },
  {
   "cell_type": "code",
   "execution_count": 133,
   "id": "5caf2c3e",
   "metadata": {},
   "outputs": [],
   "source": [
    "df_map = pd.read_csv('DATASET_FINAL.csv')"
   ]
  },
  {
   "cell_type": "code",
   "execution_count": 134,
   "id": "fcd5d480",
   "metadata": {},
   "outputs": [
    {
     "data": {
      "text/html": [
       "<div>\n",
       "<style scoped>\n",
       "    .dataframe tbody tr th:only-of-type {\n",
       "        vertical-align: middle;\n",
       "    }\n",
       "\n",
       "    .dataframe tbody tr th {\n",
       "        vertical-align: top;\n",
       "    }\n",
       "\n",
       "    .dataframe thead th {\n",
       "        text-align: right;\n",
       "    }\n",
       "</style>\n",
       "<table border=\"1\" class=\"dataframe\">\n",
       "  <thead>\n",
       "    <tr style=\"text-align: right;\">\n",
       "      <th></th>\n",
       "      <th>Cod.Departamento</th>\n",
       "      <th>Departamento</th>\n",
       "      <th>Cod.Municipio</th>\n",
       "      <th>Municipio</th>\n",
       "      <th>Agente</th>\n",
       "      <th>Bandera</th>\n",
       "      <th>Direccion</th>\n",
       "      <th>Producto</th>\n",
       "      <th>Precio</th>\n",
       "      <th>Estado</th>\n",
       "      <th>Registro</th>\n",
       "      <th>Periodo</th>\n",
       "      <th>Mes</th>\n",
       "      <th>Direccion_2</th>\n",
       "      <th>Full_Address</th>\n",
       "      <th>Coords</th>\n",
       "    </tr>\n",
       "  </thead>\n",
       "  <tbody>\n",
       "    <tr>\n",
       "      <th>0</th>\n",
       "      <td>11</td>\n",
       "      <td>BOGOTA D.C.</td>\n",
       "      <td>11001</td>\n",
       "      <td>BOGOTA D.C.</td>\n",
       "      <td>ESTACION DE SERVICIO METROPOLITANA</td>\n",
       "      <td>MOBIL</td>\n",
       "      <td>CARRERA 120 No. 17-37</td>\n",
       "      <td>BIODIESEL EXTRA</td>\n",
       "      <td>8400</td>\n",
       "      <td>1</td>\n",
       "      <td>05/02/2018 12:00:00 AM</td>\n",
       "      <td>2018</td>\n",
       "      <td>5</td>\n",
       "      <td>CARRERA 120 No. 17-37</td>\n",
       "      <td>CARRERA 120 No. 17-37, Bogota d.c., Colombia</td>\n",
       "      <td>(\"4° 15' 0.00000'' N\", \"74° 10' 59.98800'' W\")</td>\n",
       "    </tr>\n",
       "    <tr>\n",
       "      <th>1</th>\n",
       "      <td>11</td>\n",
       "      <td>BOGOTA D.C.</td>\n",
       "      <td>11001</td>\n",
       "      <td>BOGOTA D.C.</td>\n",
       "      <td>ESTACION DE SERVICIO METROPOLITANA</td>\n",
       "      <td>MOBIL</td>\n",
       "      <td>CARRERA 120 No. 17-37</td>\n",
       "      <td>GASOLINA CORRIENTE OXIGENADA</td>\n",
       "      <td>9095</td>\n",
       "      <td>1</td>\n",
       "      <td>05/02/2018 12:00:00 AM</td>\n",
       "      <td>2018</td>\n",
       "      <td>5</td>\n",
       "      <td>CARRERA 120 No. 17-37</td>\n",
       "      <td>CARRERA 120 No. 17-37, Bogota d.c., Colombia</td>\n",
       "      <td>(\"4° 15' 0.00000'' N\", \"74° 10' 59.98800'' W\")</td>\n",
       "    </tr>\n",
       "    <tr>\n",
       "      <th>2</th>\n",
       "      <td>11</td>\n",
       "      <td>BOGOTA D.C.</td>\n",
       "      <td>11001</td>\n",
       "      <td>BOGOTA D.C.</td>\n",
       "      <td>ESTACION DE SERVICIO METROPOLITANA</td>\n",
       "      <td>MOBIL</td>\n",
       "      <td>CARRERA 120 No. 17-37</td>\n",
       "      <td>BIOACEM AL 9%</td>\n",
       "      <td>8400</td>\n",
       "      <td>1</td>\n",
       "      <td>05/02/2018 12:00:00 AM</td>\n",
       "      <td>2018</td>\n",
       "      <td>5</td>\n",
       "      <td>CARRERA 120 No. 17-37</td>\n",
       "      <td>CARRERA 120 No. 17-37, Bogota d.c., Colombia</td>\n",
       "      <td>(\"4° 15' 0.00000'' N\", \"74° 10' 59.98800'' W\")</td>\n",
       "    </tr>\n",
       "  </tbody>\n",
       "</table>\n",
       "</div>"
      ],
      "text/plain": [
       "   Cod.Departamento Departamento  Cod.Municipio    Municipio  \\\n",
       "0                11  BOGOTA D.C.          11001  BOGOTA D.C.   \n",
       "1                11  BOGOTA D.C.          11001  BOGOTA D.C.   \n",
       "2                11  BOGOTA D.C.          11001  BOGOTA D.C.   \n",
       "\n",
       "                               Agente Bandera              Direccion  \\\n",
       "0  ESTACION DE SERVICIO METROPOLITANA   MOBIL  CARRERA 120 No. 17-37   \n",
       "1  ESTACION DE SERVICIO METROPOLITANA   MOBIL  CARRERA 120 No. 17-37   \n",
       "2  ESTACION DE SERVICIO METROPOLITANA   MOBIL  CARRERA 120 No. 17-37   \n",
       "\n",
       "                       Producto  Precio  Estado                Registro  \\\n",
       "0               BIODIESEL EXTRA    8400       1  05/02/2018 12:00:00 AM   \n",
       "1  GASOLINA CORRIENTE OXIGENADA    9095       1  05/02/2018 12:00:00 AM   \n",
       "2                 BIOACEM AL 9%    8400       1  05/02/2018 12:00:00 AM   \n",
       "\n",
       "   Periodo  Mes            Direccion_2  \\\n",
       "0     2018    5  CARRERA 120 No. 17-37   \n",
       "1     2018    5  CARRERA 120 No. 17-37   \n",
       "2     2018    5  CARRERA 120 No. 17-37   \n",
       "\n",
       "                                   Full_Address  \\\n",
       "0  CARRERA 120 No. 17-37, Bogota d.c., Colombia   \n",
       "1  CARRERA 120 No. 17-37, Bogota d.c., Colombia   \n",
       "2  CARRERA 120 No. 17-37, Bogota d.c., Colombia   \n",
       "\n",
       "                                           Coords  \n",
       "0  (\"4° 15' 0.00000'' N\", \"74° 10' 59.98800'' W\")  \n",
       "1  (\"4° 15' 0.00000'' N\", \"74° 10' 59.98800'' W\")  \n",
       "2  (\"4° 15' 0.00000'' N\", \"74° 10' 59.98800'' W\")  "
      ]
     },
     "execution_count": 134,
     "metadata": {},
     "output_type": "execute_result"
    }
   ],
   "source": [
    "df_map.head(3)"
   ]
  },
  {
   "cell_type": "code",
   "execution_count": 135,
   "id": "e9b9a164-5a5f-4382-b374-c73459395c3f",
   "metadata": {},
   "outputs": [],
   "source": [
    "df_map = df_map.drop_duplicates(subset = ['Agente','Bandera','Producto'])"
   ]
  },
  {
   "cell_type": "code",
   "execution_count": 136,
   "id": "a1c848d5-c2b1-4b89-969c-83bab58bbf49",
   "metadata": {},
   "outputs": [
    {
     "data": {
      "text/plain": [
       "1641"
      ]
     },
     "execution_count": 136,
     "metadata": {},
     "output_type": "execute_result"
    }
   ],
   "source": [
    "len(df_map)"
   ]
  },
  {
   "cell_type": "code",
   "execution_count": 137,
   "id": "800552db-4df9-498f-ae4a-4c14b881571a",
   "metadata": {},
   "outputs": [
    {
     "data": {
      "text/html": [
       "<div>\n",
       "<style scoped>\n",
       "    .dataframe tbody tr th:only-of-type {\n",
       "        vertical-align: middle;\n",
       "    }\n",
       "\n",
       "    .dataframe tbody tr th {\n",
       "        vertical-align: top;\n",
       "    }\n",
       "\n",
       "    .dataframe thead th {\n",
       "        text-align: right;\n",
       "    }\n",
       "</style>\n",
       "<table border=\"1\" class=\"dataframe\">\n",
       "  <thead>\n",
       "    <tr style=\"text-align: right;\">\n",
       "      <th></th>\n",
       "      <th>Cod.Departamento</th>\n",
       "      <th>Departamento</th>\n",
       "      <th>Cod.Municipio</th>\n",
       "      <th>Municipio</th>\n",
       "      <th>Agente</th>\n",
       "      <th>Bandera</th>\n",
       "      <th>Direccion</th>\n",
       "      <th>Producto</th>\n",
       "      <th>Precio</th>\n",
       "      <th>Estado</th>\n",
       "      <th>Registro</th>\n",
       "      <th>Periodo</th>\n",
       "      <th>Mes</th>\n",
       "      <th>Direccion_2</th>\n",
       "      <th>Full_Address</th>\n",
       "      <th>Coords</th>\n",
       "    </tr>\n",
       "  </thead>\n",
       "  <tbody>\n",
       "    <tr>\n",
       "      <th>0</th>\n",
       "      <td>11</td>\n",
       "      <td>BOGOTA D.C.</td>\n",
       "      <td>11001</td>\n",
       "      <td>BOGOTA D.C.</td>\n",
       "      <td>ESTACION DE SERVICIO METROPOLITANA</td>\n",
       "      <td>MOBIL</td>\n",
       "      <td>CARRERA 120 No. 17-37</td>\n",
       "      <td>BIODIESEL EXTRA</td>\n",
       "      <td>8400</td>\n",
       "      <td>1</td>\n",
       "      <td>05/02/2018 12:00:00 AM</td>\n",
       "      <td>2018</td>\n",
       "      <td>5</td>\n",
       "      <td>CARRERA 120 No. 17-37</td>\n",
       "      <td>CARRERA 120 No. 17-37, Bogota d.c., Colombia</td>\n",
       "      <td>(\"4° 15' 0.00000'' N\", \"74° 10' 59.98800'' W\")</td>\n",
       "    </tr>\n",
       "    <tr>\n",
       "      <th>1</th>\n",
       "      <td>11</td>\n",
       "      <td>BOGOTA D.C.</td>\n",
       "      <td>11001</td>\n",
       "      <td>BOGOTA D.C.</td>\n",
       "      <td>ESTACION DE SERVICIO METROPOLITANA</td>\n",
       "      <td>MOBIL</td>\n",
       "      <td>CARRERA 120 No. 17-37</td>\n",
       "      <td>GASOLINA CORRIENTE OXIGENADA</td>\n",
       "      <td>9095</td>\n",
       "      <td>1</td>\n",
       "      <td>05/02/2018 12:00:00 AM</td>\n",
       "      <td>2018</td>\n",
       "      <td>5</td>\n",
       "      <td>CARRERA 120 No. 17-37</td>\n",
       "      <td>CARRERA 120 No. 17-37, Bogota d.c., Colombia</td>\n",
       "      <td>(\"4° 15' 0.00000'' N\", \"74° 10' 59.98800'' W\")</td>\n",
       "    </tr>\n",
       "  </tbody>\n",
       "</table>\n",
       "</div>"
      ],
      "text/plain": [
       "   Cod.Departamento Departamento  Cod.Municipio    Municipio  \\\n",
       "0                11  BOGOTA D.C.          11001  BOGOTA D.C.   \n",
       "1                11  BOGOTA D.C.          11001  BOGOTA D.C.   \n",
       "\n",
       "                               Agente Bandera              Direccion  \\\n",
       "0  ESTACION DE SERVICIO METROPOLITANA   MOBIL  CARRERA 120 No. 17-37   \n",
       "1  ESTACION DE SERVICIO METROPOLITANA   MOBIL  CARRERA 120 No. 17-37   \n",
       "\n",
       "                       Producto  Precio  Estado                Registro  \\\n",
       "0               BIODIESEL EXTRA    8400       1  05/02/2018 12:00:00 AM   \n",
       "1  GASOLINA CORRIENTE OXIGENADA    9095       1  05/02/2018 12:00:00 AM   \n",
       "\n",
       "   Periodo  Mes            Direccion_2  \\\n",
       "0     2018    5  CARRERA 120 No. 17-37   \n",
       "1     2018    5  CARRERA 120 No. 17-37   \n",
       "\n",
       "                                   Full_Address  \\\n",
       "0  CARRERA 120 No. 17-37, Bogota d.c., Colombia   \n",
       "1  CARRERA 120 No. 17-37, Bogota d.c., Colombia   \n",
       "\n",
       "                                           Coords  \n",
       "0  (\"4° 15' 0.00000'' N\", \"74° 10' 59.98800'' W\")  \n",
       "1  (\"4° 15' 0.00000'' N\", \"74° 10' 59.98800'' W\")  "
      ]
     },
     "execution_count": 137,
     "metadata": {},
     "output_type": "execute_result"
    }
   ],
   "source": [
    "df_map.head(2)"
   ]
  },
  {
   "cell_type": "code",
   "execution_count": 138,
   "id": "1eb3fd92-768f-4b11-906d-80f822489d73",
   "metadata": {},
   "outputs": [
    {
     "data": {
      "text/plain": [
       "(\"4° 15' 0.00000'' N\", \"74° 10' 59.98800'' W\")     785\n",
       "(\"6° 15' 6.62400'' N\", \"75° 33' 48.92400'' W\")     162\n",
       "(\"4° 36' 19.23336'' N\", \"74° 7' 4.70064'' W\")      151\n",
       "(\"4° 37' 34.10328'' N\", \"74° 5' 15.97560'' W\")      47\n",
       "(\"6° 20' 14.35200'' N\", \"75° 33' 28.62000'' W\")     44\n",
       "                                                  ... \n",
       "(\"6° 20' 12.35580'' N\", \"75° 33' 2.72952'' W\")       2\n",
       "(\"6° 17' 21.47964'' N\", \"75° 35' 30.03396'' W\")      1\n",
       "(\"6° 12' 30.05460'' N\", \"75° 33' 52.53840'' W\")      1\n",
       "(\"6° 16' 28.09308'' N\", \"75° 33' 47.53440'' W\")      1\n",
       "(\"6° 13' 39.76932'' N\", \"75° 33' 37.45188'' W\")      1\n",
       "Name: Coords, Length: 102, dtype: int64"
      ]
     },
     "execution_count": 138,
     "metadata": {},
     "output_type": "execute_result"
    }
   ],
   "source": [
    "df_map['Coords'].value_counts()"
   ]
  },
  {
   "cell_type": "code",
   "execution_count": 139,
   "id": "2ec0dc22-1e06-44d6-8c49-62a3fc6ddbd0",
   "metadata": {},
   "outputs": [
    {
     "data": {
      "text/html": [
       "<div>\n",
       "<style scoped>\n",
       "    .dataframe tbody tr th:only-of-type {\n",
       "        vertical-align: middle;\n",
       "    }\n",
       "\n",
       "    .dataframe tbody tr th {\n",
       "        vertical-align: top;\n",
       "    }\n",
       "\n",
       "    .dataframe thead th {\n",
       "        text-align: right;\n",
       "    }\n",
       "</style>\n",
       "<table border=\"1\" class=\"dataframe\">\n",
       "  <thead>\n",
       "    <tr style=\"text-align: right;\">\n",
       "      <th></th>\n",
       "      <th>Cod.Departamento</th>\n",
       "      <th>Departamento</th>\n",
       "      <th>Cod.Municipio</th>\n",
       "      <th>Municipio</th>\n",
       "      <th>Agente</th>\n",
       "      <th>Bandera</th>\n",
       "      <th>Direccion</th>\n",
       "      <th>Producto</th>\n",
       "      <th>Precio</th>\n",
       "      <th>Estado</th>\n",
       "      <th>Registro</th>\n",
       "      <th>Periodo</th>\n",
       "      <th>Mes</th>\n",
       "      <th>Direccion_2</th>\n",
       "      <th>Full_Address</th>\n",
       "      <th>Coords</th>\n",
       "    </tr>\n",
       "  </thead>\n",
       "  <tbody>\n",
       "    <tr>\n",
       "      <th>1328</th>\n",
       "      <td>5</td>\n",
       "      <td>ANTIOQUIA</td>\n",
       "      <td>5001</td>\n",
       "      <td>MEDELLIN</td>\n",
       "      <td>ESTACION DE SERVICIO AUTOMOTRIZ COMBUSCOL LA 70</td>\n",
       "      <td>TEXACO</td>\n",
       "      <td>cra70#44-23</td>\n",
       "      <td>BIODIESEL EXTRA</td>\n",
       "      <td>8570</td>\n",
       "      <td>1</td>\n",
       "      <td>05/03/2018 12:00:00 AM</td>\n",
       "      <td>2018</td>\n",
       "      <td>5</td>\n",
       "      <td>cra70No44-23</td>\n",
       "      <td>cra70No44-23, Medellin, Colombia</td>\n",
       "      <td>('NA', 'NA')</td>\n",
       "    </tr>\n",
       "    <tr>\n",
       "      <th>1329</th>\n",
       "      <td>5</td>\n",
       "      <td>ANTIOQUIA</td>\n",
       "      <td>5001</td>\n",
       "      <td>MEDELLIN</td>\n",
       "      <td>ESTACION DE SERVICIO AUTOMOTRIZ COMBUSCOL LA 70</td>\n",
       "      <td>TEXACO</td>\n",
       "      <td>cra70#44-23</td>\n",
       "      <td>GASOLINA CORRIENTE OXIGENADA</td>\n",
       "      <td>11990</td>\n",
       "      <td>1</td>\n",
       "      <td>05/03/2018 12:00:00 AM</td>\n",
       "      <td>2018</td>\n",
       "      <td>5</td>\n",
       "      <td>cra70No44-23</td>\n",
       "      <td>cra70No44-23, Medellin, Colombia</td>\n",
       "      <td>('NA', 'NA')</td>\n",
       "    </tr>\n",
       "    <tr>\n",
       "      <th>1330</th>\n",
       "      <td>5</td>\n",
       "      <td>ANTIOQUIA</td>\n",
       "      <td>5001</td>\n",
       "      <td>MEDELLIN</td>\n",
       "      <td>ESTACION DE SERVICIO AUTOMOTRIZ COMBUSCOL LA 70</td>\n",
       "      <td>TEXACO</td>\n",
       "      <td>cra70#44-23</td>\n",
       "      <td>GASOLINA EXTRA OXIGENADA</td>\n",
       "      <td>9060</td>\n",
       "      <td>1</td>\n",
       "      <td>05/03/2018 12:00:00 AM</td>\n",
       "      <td>2018</td>\n",
       "      <td>5</td>\n",
       "      <td>cra70No44-23</td>\n",
       "      <td>cra70No44-23, Medellin, Colombia</td>\n",
       "      <td>('NA', 'NA')</td>\n",
       "    </tr>\n",
       "  </tbody>\n",
       "</table>\n",
       "</div>"
      ],
      "text/plain": [
       "      Cod.Departamento Departamento  Cod.Municipio Municipio  \\\n",
       "1328                 5    ANTIOQUIA           5001  MEDELLIN   \n",
       "1329                 5    ANTIOQUIA           5001  MEDELLIN   \n",
       "1330                 5    ANTIOQUIA           5001  MEDELLIN   \n",
       "\n",
       "                                               Agente Bandera    Direccion  \\\n",
       "1328  ESTACION DE SERVICIO AUTOMOTRIZ COMBUSCOL LA 70  TEXACO  cra70#44-23   \n",
       "1329  ESTACION DE SERVICIO AUTOMOTRIZ COMBUSCOL LA 70  TEXACO  cra70#44-23   \n",
       "1330  ESTACION DE SERVICIO AUTOMOTRIZ COMBUSCOL LA 70  TEXACO  cra70#44-23   \n",
       "\n",
       "                          Producto  Precio  Estado                Registro  \\\n",
       "1328               BIODIESEL EXTRA    8570       1  05/03/2018 12:00:00 AM   \n",
       "1329  GASOLINA CORRIENTE OXIGENADA   11990       1  05/03/2018 12:00:00 AM   \n",
       "1330      GASOLINA EXTRA OXIGENADA    9060       1  05/03/2018 12:00:00 AM   \n",
       "\n",
       "      Periodo  Mes   Direccion_2                      Full_Address  \\\n",
       "1328     2018    5  cra70No44-23  cra70No44-23, Medellin, Colombia   \n",
       "1329     2018    5  cra70No44-23  cra70No44-23, Medellin, Colombia   \n",
       "1330     2018    5  cra70No44-23  cra70No44-23, Medellin, Colombia   \n",
       "\n",
       "            Coords  \n",
       "1328  ('NA', 'NA')  \n",
       "1329  ('NA', 'NA')  \n",
       "1330  ('NA', 'NA')  "
      ]
     },
     "execution_count": 139,
     "metadata": {},
     "output_type": "execute_result"
    }
   ],
   "source": [
    "df_map[df_map['Coords'].str.contains(\"NA\")]\n",
    "#df_map[df_map['Coords'] == \"('NA','NA')\"]['Direccion'].unique()"
   ]
  },
  {
   "cell_type": "code",
   "execution_count": 145,
   "id": "58d1e067-c2d2-4c46-8352-2884d5b0072a",
   "metadata": {},
   "outputs": [
    {
     "name": "stdout",
     "output_type": "stream",
     "text": [
      "<class 'pandas.core.frame.DataFrame'>\n",
      "Int64Index: 1641 entries, 0 to 1640\n",
      "Data columns (total 16 columns):\n",
      " #   Column            Non-Null Count  Dtype \n",
      "---  ------            --------------  ----- \n",
      " 0   Cod.Departamento  1641 non-null   int64 \n",
      " 1   Departamento      1641 non-null   object\n",
      " 2   Cod.Municipio     1641 non-null   int64 \n",
      " 3   Municipio         1641 non-null   object\n",
      " 4   Agente            1641 non-null   object\n",
      " 5   Bandera           1641 non-null   object\n",
      " 6   Direccion         1641 non-null   object\n",
      " 7   Producto          1641 non-null   object\n",
      " 8   Precio            1641 non-null   int64 \n",
      " 9   Estado            1641 non-null   int64 \n",
      " 10  Registro          1641 non-null   object\n",
      " 11  Periodo           1641 non-null   int64 \n",
      " 12  Mes               1641 non-null   int64 \n",
      " 13  Direccion_2       1641 non-null   object\n",
      " 14  Full_Address      1641 non-null   object\n",
      " 15  Coords            1641 non-null   object\n",
      "dtypes: int64(6), object(10)\n",
      "memory usage: 282.5+ KB\n"
     ]
    }
   ],
   "source": [
    "df_map.info()"
   ]
  },
  {
   "cell_type": "code",
   "execution_count": 147,
   "id": "a20105b4-77b4-44c2-a9f0-725511930c68",
   "metadata": {},
   "outputs": [
    {
     "data": {
      "text/plain": [
       "array(['BOGOTA D.C.', 'ANTIOQUIA'], dtype=object)"
      ]
     },
     "execution_count": 147,
     "metadata": {},
     "output_type": "execute_result"
    }
   ],
   "source": [
    "df_map['Departamento'].unique()"
   ]
  },
  {
   "cell_type": "code",
   "execution_count": 148,
   "id": "9d11b121-8b4a-488d-8c66-ee7e186385c2",
   "metadata": {},
   "outputs": [
    {
     "data": {
      "text/plain": [
       "array(['BOGOTA D.C.', 'MEDELLIN', 'BELLO'], dtype=object)"
      ]
     },
     "execution_count": 148,
     "metadata": {},
     "output_type": "execute_result"
    }
   ],
   "source": [
    "df_map['Municipio'].unique()"
   ]
  },
  {
   "cell_type": "code",
   "execution_count": 150,
   "id": "46866b59-244a-4b9f-8e17-435a714caced",
   "metadata": {},
   "outputs": [],
   "source": [
    "coordenadas = df_map['Coords'][0].replace('(','').replace(')','').replace(\"\\'\",\"\").replace(\"°\",\"\").replace(\"'\",\"\").replace('\"','').split(',')"
   ]
  },
  {
   "cell_type": "code",
   "execution_count": 151,
   "id": "f37d9e81-15cb-426b-ab5a-6fd9a44c7b16",
   "metadata": {},
   "outputs": [
    {
     "data": {
      "text/plain": [
       "['4 15 0.00000 N', ' 74 10 59.98800 W']"
      ]
     },
     "execution_count": 151,
     "metadata": {},
     "output_type": "execute_result"
    }
   ],
   "source": [
    "coordenadas"
   ]
  },
  {
   "cell_type": "code",
   "execution_count": 152,
   "id": "45058a9b-8c13-497a-b8f3-1f13e875ea55",
   "metadata": {},
   "outputs": [
    {
     "data": {
      "text/plain": [
       "['4', '15', '0.00000', 'N']"
      ]
     },
     "execution_count": 152,
     "metadata": {},
     "output_type": "execute_result"
    }
   ],
   "source": [
    "coord1= coordenadas[0].split(\" \")\n",
    "coord1"
   ]
  },
  {
   "cell_type": "code",
   "execution_count": 153,
   "id": "8206a86e-c79b-4104-ae03-00619c68cc7d",
   "metadata": {},
   "outputs": [
    {
     "data": {
      "text/plain": [
       "['74', '10', '59.98800', 'W']"
      ]
     },
     "execution_count": 153,
     "metadata": {},
     "output_type": "execute_result"
    }
   ],
   "source": [
    "coord2 = coordenadas[1].strip(\" \").split(\" \")\n",
    "coord2"
   ]
  },
  {
   "cell_type": "code",
   "execution_count": 157,
   "id": "8e1362a7-3f1f-4614-90f5-35ee7466b5f5",
   "metadata": {},
   "outputs": [],
   "source": [
    "def deg_to_dec(degrees, minutes, seconds, pole):\n",
    "    if pole == 'S' or pole == 'W':\n",
    "        sign = -1\n",
    "    else:\n",
    "        sign = 1\n",
    "\n",
    "    decimal = sign * (abs(degrees) + (minutes / 60.0) + (seconds / 3600.0))\n",
    "\n",
    "    return decimal"
   ]
  },
  {
   "cell_type": "code",
   "execution_count": 158,
   "id": "3fa058c4-4649-432f-a3fb-b12274e673d1",
   "metadata": {},
   "outputs": [
    {
     "data": {
      "text/plain": [
       "4.25"
      ]
     },
     "execution_count": 158,
     "metadata": {},
     "output_type": "execute_result"
    }
   ],
   "source": [
    "deg_to_dec(float(coord1[0]), float(coord1[1]), float(coord1[2]), coord1[3])"
   ]
  },
  {
   "cell_type": "code",
   "execution_count": 159,
   "id": "a0622245-2487-4497-bca8-056174ccf210",
   "metadata": {},
   "outputs": [
    {
     "data": {
      "text/plain": [
       "-74.18333"
      ]
     },
     "execution_count": 159,
     "metadata": {},
     "output_type": "execute_result"
    }
   ],
   "source": [
    "deg_to_dec(float(coord2[0]), float(coord2[1]), float(coord2[2]), coord2[3])"
   ]
  },
  {
   "cell_type": "code",
   "execution_count": 160,
   "id": "2011314f-7a00-4177-9c53-d110956189b9",
   "metadata": {},
   "outputs": [],
   "source": [
    "def convertir (coordenadas,tipo):\n",
    "    \n",
    "    \n",
    "        \n",
    "    coordenadas = coordenadas.replace('(','').replace(')','').replace(\"\\'\",\"\").replace(\"°\",\"\").replace(\"'\",\"\").replace('\"','').split(',')\n",
    "    coord1 = coordenadas[0].split(\" \")\n",
    "    coord2 = coordenadas[1].strip(\" \").split(\" \")\n",
    "    valor = None\n",
    "    if coord1[0] != 'NA' and coord2[0] != 'NA' :\n",
    "        if tipo == 'Latitud':\n",
    "            valor = deg_to_dec(float(coord1[0]), float(coord1[1]), float(coord1[2]), coord1[3])\n",
    "        else :\n",
    "            valor = deg_to_dec(float(coord2[0]), float(coord2[1]), float(coord2[2]), coord2[3])\n",
    "    else :\n",
    "        valor = 'Empty'\n",
    "    return valor "
   ]
  },
  {
   "cell_type": "code",
   "execution_count": 161,
   "id": "c080eb49-8880-4321-996d-a06f545ff1d5",
   "metadata": {},
   "outputs": [
    {
     "data": {
      "text/plain": [
       "4.25"
      ]
     },
     "execution_count": 161,
     "metadata": {},
     "output_type": "execute_result"
    }
   ],
   "source": [
    "convertir(df_map['Coords'][0],'Latitud')"
   ]
  },
  {
   "cell_type": "code",
   "execution_count": 162,
   "id": "b85b29cb-cef7-4812-8141-d0fb38269fb9",
   "metadata": {},
   "outputs": [
    {
     "data": {
      "text/plain": [
       "-74.18333"
      ]
     },
     "execution_count": 162,
     "metadata": {},
     "output_type": "execute_result"
    }
   ],
   "source": [
    "convertir(df_map['Coords'][0],'Longitud')"
   ]
  },
  {
   "cell_type": "code",
   "execution_count": 163,
   "id": "5bb0feab-3d77-41f7-b8e6-7b0be54b1ae6",
   "metadata": {},
   "outputs": [
    {
     "data": {
      "text/html": [
       "<div>\n",
       "<style scoped>\n",
       "    .dataframe tbody tr th:only-of-type {\n",
       "        vertical-align: middle;\n",
       "    }\n",
       "\n",
       "    .dataframe tbody tr th {\n",
       "        vertical-align: top;\n",
       "    }\n",
       "\n",
       "    .dataframe thead th {\n",
       "        text-align: right;\n",
       "    }\n",
       "</style>\n",
       "<table border=\"1\" class=\"dataframe\">\n",
       "  <thead>\n",
       "    <tr style=\"text-align: right;\">\n",
       "      <th></th>\n",
       "      <th>Cod.Departamento</th>\n",
       "      <th>Departamento</th>\n",
       "      <th>Cod.Municipio</th>\n",
       "      <th>Municipio</th>\n",
       "      <th>Agente</th>\n",
       "      <th>Bandera</th>\n",
       "      <th>Direccion</th>\n",
       "      <th>Producto</th>\n",
       "      <th>Precio</th>\n",
       "      <th>Estado</th>\n",
       "      <th>Registro</th>\n",
       "      <th>Periodo</th>\n",
       "      <th>Mes</th>\n",
       "      <th>Direccion_2</th>\n",
       "      <th>Full_Address</th>\n",
       "      <th>Coords</th>\n",
       "    </tr>\n",
       "  </thead>\n",
       "  <tbody>\n",
       "    <tr>\n",
       "      <th>0</th>\n",
       "      <td>11</td>\n",
       "      <td>BOGOTA D.C.</td>\n",
       "      <td>11001</td>\n",
       "      <td>BOGOTA D.C.</td>\n",
       "      <td>ESTACION DE SERVICIO METROPOLITANA</td>\n",
       "      <td>MOBIL</td>\n",
       "      <td>CARRERA 120 No. 17-37</td>\n",
       "      <td>BIODIESEL EXTRA</td>\n",
       "      <td>8400</td>\n",
       "      <td>1</td>\n",
       "      <td>05/02/2018 12:00:00 AM</td>\n",
       "      <td>2018</td>\n",
       "      <td>5</td>\n",
       "      <td>CARRERA 120 No. 17-37</td>\n",
       "      <td>CARRERA 120 No. 17-37, Bogota d.c., Colombia</td>\n",
       "      <td>(\"4° 15' 0.00000'' N\", \"74° 10' 59.98800'' W\")</td>\n",
       "    </tr>\n",
       "    <tr>\n",
       "      <th>1</th>\n",
       "      <td>11</td>\n",
       "      <td>BOGOTA D.C.</td>\n",
       "      <td>11001</td>\n",
       "      <td>BOGOTA D.C.</td>\n",
       "      <td>ESTACION DE SERVICIO METROPOLITANA</td>\n",
       "      <td>MOBIL</td>\n",
       "      <td>CARRERA 120 No. 17-37</td>\n",
       "      <td>GASOLINA CORRIENTE OXIGENADA</td>\n",
       "      <td>9095</td>\n",
       "      <td>1</td>\n",
       "      <td>05/02/2018 12:00:00 AM</td>\n",
       "      <td>2018</td>\n",
       "      <td>5</td>\n",
       "      <td>CARRERA 120 No. 17-37</td>\n",
       "      <td>CARRERA 120 No. 17-37, Bogota d.c., Colombia</td>\n",
       "      <td>(\"4° 15' 0.00000'' N\", \"74° 10' 59.98800'' W\")</td>\n",
       "    </tr>\n",
       "    <tr>\n",
       "      <th>2</th>\n",
       "      <td>11</td>\n",
       "      <td>BOGOTA D.C.</td>\n",
       "      <td>11001</td>\n",
       "      <td>BOGOTA D.C.</td>\n",
       "      <td>ESTACION DE SERVICIO METROPOLITANA</td>\n",
       "      <td>MOBIL</td>\n",
       "      <td>CARRERA 120 No. 17-37</td>\n",
       "      <td>BIOACEM AL 9%</td>\n",
       "      <td>8400</td>\n",
       "      <td>1</td>\n",
       "      <td>05/02/2018 12:00:00 AM</td>\n",
       "      <td>2018</td>\n",
       "      <td>5</td>\n",
       "      <td>CARRERA 120 No. 17-37</td>\n",
       "      <td>CARRERA 120 No. 17-37, Bogota d.c., Colombia</td>\n",
       "      <td>(\"4° 15' 0.00000'' N\", \"74° 10' 59.98800'' W\")</td>\n",
       "    </tr>\n",
       "  </tbody>\n",
       "</table>\n",
       "</div>"
      ],
      "text/plain": [
       "   Cod.Departamento Departamento  Cod.Municipio    Municipio  \\\n",
       "0                11  BOGOTA D.C.          11001  BOGOTA D.C.   \n",
       "1                11  BOGOTA D.C.          11001  BOGOTA D.C.   \n",
       "2                11  BOGOTA D.C.          11001  BOGOTA D.C.   \n",
       "\n",
       "                               Agente Bandera              Direccion  \\\n",
       "0  ESTACION DE SERVICIO METROPOLITANA   MOBIL  CARRERA 120 No. 17-37   \n",
       "1  ESTACION DE SERVICIO METROPOLITANA   MOBIL  CARRERA 120 No. 17-37   \n",
       "2  ESTACION DE SERVICIO METROPOLITANA   MOBIL  CARRERA 120 No. 17-37   \n",
       "\n",
       "                       Producto  Precio  Estado                Registro  \\\n",
       "0               BIODIESEL EXTRA    8400       1  05/02/2018 12:00:00 AM   \n",
       "1  GASOLINA CORRIENTE OXIGENADA    9095       1  05/02/2018 12:00:00 AM   \n",
       "2                 BIOACEM AL 9%    8400       1  05/02/2018 12:00:00 AM   \n",
       "\n",
       "   Periodo  Mes            Direccion_2  \\\n",
       "0     2018    5  CARRERA 120 No. 17-37   \n",
       "1     2018    5  CARRERA 120 No. 17-37   \n",
       "2     2018    5  CARRERA 120 No. 17-37   \n",
       "\n",
       "                                   Full_Address  \\\n",
       "0  CARRERA 120 No. 17-37, Bogota d.c., Colombia   \n",
       "1  CARRERA 120 No. 17-37, Bogota d.c., Colombia   \n",
       "2  CARRERA 120 No. 17-37, Bogota d.c., Colombia   \n",
       "\n",
       "                                           Coords  \n",
       "0  (\"4° 15' 0.00000'' N\", \"74° 10' 59.98800'' W\")  \n",
       "1  (\"4° 15' 0.00000'' N\", \"74° 10' 59.98800'' W\")  \n",
       "2  (\"4° 15' 0.00000'' N\", \"74° 10' 59.98800'' W\")  "
      ]
     },
     "execution_count": 163,
     "metadata": {},
     "output_type": "execute_result"
    }
   ],
   "source": [
    "df_map.head(3)"
   ]
  },
  {
   "cell_type": "code",
   "execution_count": 164,
   "id": "5c8ec1a2-78fb-480b-aea0-a7362935f248",
   "metadata": {
    "tags": []
   },
   "outputs": [],
   "source": [
    "df_map['Latitud'] = df_map['Coords'].apply(lambda x : convertir(x,'Latitud') if x != \"('NA','NA')\" else \"Empty\")\n",
    "df_map['Longitud'] = df_map['Coords'].apply(lambda x : convertir(x,'Longitud') if x != \"('NA','NA')\" else \"Empty\")"
   ]
  },
  {
   "cell_type": "code",
   "execution_count": 165,
   "id": "7de0c54a-8ec8-483d-a523-748851cb15e2",
   "metadata": {},
   "outputs": [
    {
     "data": {
      "text/html": [
       "<div>\n",
       "<style scoped>\n",
       "    .dataframe tbody tr th:only-of-type {\n",
       "        vertical-align: middle;\n",
       "    }\n",
       "\n",
       "    .dataframe tbody tr th {\n",
       "        vertical-align: top;\n",
       "    }\n",
       "\n",
       "    .dataframe thead th {\n",
       "        text-align: right;\n",
       "    }\n",
       "</style>\n",
       "<table border=\"1\" class=\"dataframe\">\n",
       "  <thead>\n",
       "    <tr style=\"text-align: right;\">\n",
       "      <th></th>\n",
       "      <th>Cod.Departamento</th>\n",
       "      <th>Departamento</th>\n",
       "      <th>Cod.Municipio</th>\n",
       "      <th>Municipio</th>\n",
       "      <th>Agente</th>\n",
       "      <th>Bandera</th>\n",
       "      <th>Direccion</th>\n",
       "      <th>Producto</th>\n",
       "      <th>Precio</th>\n",
       "      <th>Estado</th>\n",
       "      <th>Registro</th>\n",
       "      <th>Periodo</th>\n",
       "      <th>Mes</th>\n",
       "      <th>Direccion_2</th>\n",
       "      <th>Full_Address</th>\n",
       "      <th>Coords</th>\n",
       "      <th>Latitud</th>\n",
       "      <th>Longitud</th>\n",
       "    </tr>\n",
       "  </thead>\n",
       "  <tbody>\n",
       "    <tr>\n",
       "      <th>0</th>\n",
       "      <td>11</td>\n",
       "      <td>BOGOTA D.C.</td>\n",
       "      <td>11001</td>\n",
       "      <td>BOGOTA D.C.</td>\n",
       "      <td>ESTACION DE SERVICIO METROPOLITANA</td>\n",
       "      <td>MOBIL</td>\n",
       "      <td>CARRERA 120 No. 17-37</td>\n",
       "      <td>BIODIESEL EXTRA</td>\n",
       "      <td>8400</td>\n",
       "      <td>1</td>\n",
       "      <td>05/02/2018 12:00:00 AM</td>\n",
       "      <td>2018</td>\n",
       "      <td>5</td>\n",
       "      <td>CARRERA 120 No. 17-37</td>\n",
       "      <td>CARRERA 120 No. 17-37, Bogota d.c., Colombia</td>\n",
       "      <td>(\"4° 15' 0.00000'' N\", \"74° 10' 59.98800'' W\")</td>\n",
       "      <td>4.25</td>\n",
       "      <td>-74.18333</td>\n",
       "    </tr>\n",
       "    <tr>\n",
       "      <th>1</th>\n",
       "      <td>11</td>\n",
       "      <td>BOGOTA D.C.</td>\n",
       "      <td>11001</td>\n",
       "      <td>BOGOTA D.C.</td>\n",
       "      <td>ESTACION DE SERVICIO METROPOLITANA</td>\n",
       "      <td>MOBIL</td>\n",
       "      <td>CARRERA 120 No. 17-37</td>\n",
       "      <td>GASOLINA CORRIENTE OXIGENADA</td>\n",
       "      <td>9095</td>\n",
       "      <td>1</td>\n",
       "      <td>05/02/2018 12:00:00 AM</td>\n",
       "      <td>2018</td>\n",
       "      <td>5</td>\n",
       "      <td>CARRERA 120 No. 17-37</td>\n",
       "      <td>CARRERA 120 No. 17-37, Bogota d.c., Colombia</td>\n",
       "      <td>(\"4° 15' 0.00000'' N\", \"74° 10' 59.98800'' W\")</td>\n",
       "      <td>4.25</td>\n",
       "      <td>-74.18333</td>\n",
       "    </tr>\n",
       "  </tbody>\n",
       "</table>\n",
       "</div>"
      ],
      "text/plain": [
       "   Cod.Departamento Departamento  Cod.Municipio    Municipio  \\\n",
       "0                11  BOGOTA D.C.          11001  BOGOTA D.C.   \n",
       "1                11  BOGOTA D.C.          11001  BOGOTA D.C.   \n",
       "\n",
       "                               Agente Bandera              Direccion  \\\n",
       "0  ESTACION DE SERVICIO METROPOLITANA   MOBIL  CARRERA 120 No. 17-37   \n",
       "1  ESTACION DE SERVICIO METROPOLITANA   MOBIL  CARRERA 120 No. 17-37   \n",
       "\n",
       "                       Producto  Precio  Estado                Registro  \\\n",
       "0               BIODIESEL EXTRA    8400       1  05/02/2018 12:00:00 AM   \n",
       "1  GASOLINA CORRIENTE OXIGENADA    9095       1  05/02/2018 12:00:00 AM   \n",
       "\n",
       "   Periodo  Mes            Direccion_2  \\\n",
       "0     2018    5  CARRERA 120 No. 17-37   \n",
       "1     2018    5  CARRERA 120 No. 17-37   \n",
       "\n",
       "                                   Full_Address  \\\n",
       "0  CARRERA 120 No. 17-37, Bogota d.c., Colombia   \n",
       "1  CARRERA 120 No. 17-37, Bogota d.c., Colombia   \n",
       "\n",
       "                                           Coords Latitud  Longitud  \n",
       "0  (\"4° 15' 0.00000'' N\", \"74° 10' 59.98800'' W\")    4.25 -74.18333  \n",
       "1  (\"4° 15' 0.00000'' N\", \"74° 10' 59.98800'' W\")    4.25 -74.18333  "
      ]
     },
     "execution_count": 165,
     "metadata": {},
     "output_type": "execute_result"
    }
   ],
   "source": [
    "df_map.head(2)"
   ]
  },
  {
   "cell_type": "code",
   "execution_count": 166,
   "id": "376a8e3f-073d-4639-9939-a9d5b04b4781",
   "metadata": {},
   "outputs": [
    {
     "data": {
      "text/plain": [
       "4.250000    785\n",
       "6.251840    162\n",
       "4.605343    151\n",
       "4.626140     47\n",
       "6.337320     44\n",
       "           ... \n",
       "6.336765      2\n",
       "6.289300      1\n",
       "6.208349      1\n",
       "6.274470      1\n",
       "6.227714      1\n",
       "Name: Latitud, Length: 102, dtype: int64"
      ]
     },
     "execution_count": 166,
     "metadata": {},
     "output_type": "execute_result"
    }
   ],
   "source": [
    "df_map['Latitud'].value_counts()"
   ]
  },
  {
   "cell_type": "code",
   "execution_count": null,
   "id": "585d3035-456a-4c9a-b9dd-808e1288cb05",
   "metadata": {},
   "outputs": [],
   "source": []
  },
  {
   "cell_type": "code",
   "execution_count": null,
   "id": "e67c02d9-2d28-46b7-b21c-ce00fe19c001",
   "metadata": {},
   "outputs": [],
   "source": []
  },
  {
   "cell_type": "code",
   "execution_count": null,
   "id": "473e6665-953c-4105-95f6-579e6a320b7c",
   "metadata": {},
   "outputs": [],
   "source": []
  }
 ],
 "metadata": {
  "kernelspec": {
   "display_name": "Python [conda env:oil]",
   "language": "python",
   "name": "conda-env-oil-py"
  },
  "language_info": {
   "codemirror_mode": {
    "name": "ipython",
    "version": 3
   },
   "file_extension": ".py",
   "mimetype": "text/x-python",
   "name": "python",
   "nbconvert_exporter": "python",
   "pygments_lexer": "ipython3",
   "version": "3.10.9"
  }
 },
 "nbformat": 4,
 "nbformat_minor": 5
}
